{
 "cells": [
  {
   "cell_type": "code",
   "execution_count": 2,
   "metadata": {},
   "outputs": [],
   "source": [
    "%reload_ext autoreload\n",
    "%autoreload 2"
   ]
  },
  {
   "cell_type": "code",
   "execution_count": 3,
   "metadata": {},
   "outputs": [],
   "source": [
    "import os \n",
    "import PIL\n",
    "import glob\n",
    "import torch\n",
    "import torchvision\n",
    "import numpy as np\n",
    "import matplotlib.pyplot as plt\n",
    "from torchvision import transforms\n",
    "from tqdm import tqdm_notebook as tqdm\n",
    "from source.network import NNClassifier\n",
    "\n",
    "from source.helpme import get_gesture_dataset, load_imgs_from_folder, show_image, calculate_pad, show_history\n",
    "from source.helpme import create_loader"
   ]
  },
  {
   "cell_type": "markdown",
   "metadata": {},
   "source": [
    "#### Load the dataset"
   ]
  },
  {
   "cell_type": "code",
   "execution_count": 4,
   "metadata": {},
   "outputs": [
    {
     "data": {
      "text/plain": [
       "((2059, 3, 64, 64), (2059,))"
      ]
     },
     "execution_count": 4,
     "metadata": {},
     "output_type": "execute_result"
    }
   ],
   "source": [
    "X, y = get_gesture_dataset(size=(64, 64), shuffle=True, gray_scale=False)\n",
    "\n",
    "X.shape, y.shape"
   ]
  },
  {
   "cell_type": "markdown",
   "metadata": {},
   "source": [
    "#### Define transforms that will be applied to images"
   ]
  },
  {
   "cell_type": "code",
   "execution_count": 5,
   "metadata": {},
   "outputs": [],
   "source": [
    "trs = transforms.Compose([\n",
    "    transforms.ColorJitter(brightness=[0.9,1.1], contrast=[0.9,1.1], saturation=[0.9,1.1], hue=[-0.001,0.001]),\n",
    "    transforms.ToTensor()\n",
    "])"
   ]
  },
  {
   "cell_type": "markdown",
   "metadata": {},
   "source": [
    "#### Create data loaders"
   ]
  },
  {
   "cell_type": "code",
   "execution_count": 6,
   "metadata": {},
   "outputs": [
    {
     "name": "stdout",
     "output_type": "stream",
     "text": [
      "train size = 1700\n",
      "valid size = 100\n",
      "test size = 259\n"
     ]
    }
   ],
   "source": [
    "# split the dataset in three parts: train, valid, test\n",
    "train_size = 1700\n",
    "valid_size = 100\n",
    "test_size = len(X) - train_size - valid_size\n",
    "print('train size =', train_size)\n",
    "print('valid size =', valid_size)\n",
    "print('test size =', test_size)\n",
    "\n",
    "X_train = X[ : train_size]\n",
    "y_train = y[ : train_size]\n",
    "\n",
    "X_valid = X[train_size : train_size+valid_size]\n",
    "y_valid = y[train_size : train_size+valid_size]\n",
    "\n",
    "X_test = X[train_size+valid_size : ]\n",
    "y_test = y[train_size+valid_size : ]"
   ]
  },
  {
   "cell_type": "code",
   "execution_count": 7,
   "metadata": {},
   "outputs": [],
   "source": [
    "# create three data loaders: train, valid, test\n",
    "train_loader = create_loader(X_train, y_train, batch_size=512, num_workers=1, shuffle=False, trs=trs)\n",
    "valid_loader = create_loader(X_valid, y_valid, batch_size=len(X_valid), num_workers=1, shuffle=False, trs=None)\n",
    "test_loader = create_loader(X_test, y_test, batch_size=len(X_test), num_workers=1, shuffle=False, trs=None)"
   ]
  },
  {
   "cell_type": "code",
   "execution_count": 8,
   "metadata": {},
   "outputs": [
    {
     "data": {
      "image/png": "[encoded data removed]",
      "text/plain": [
       "<Figure size 360x360 with 1 Axes>"
      ]
     },
     "metadata": {
      "needs_background": "light"
     },
     "output_type": "display_data"
    }
   ],
   "source": [
    "# show random image with applied transforms\n",
    "for x_batch, y_batch in train_loader:\n",
    "    show_image(x_batch[432])\n",
    "    break"
   ]
  },
  {
   "cell_type": "markdown",
   "metadata": {},
   "source": [
    "# Convolutional neural network"
   ]
  },
  {
   "cell_type": "code",
   "execution_count": 9,
   "metadata": {},
   "outputs": [],
   "source": [
    "class Softmax_layer(torch.nn.Module):\n",
    "    def __init__(self):\n",
    "        super().__init__()\n",
    "    \n",
    "    def forward(self, x):\n",
    "        e = torch.exp(x - x.max(1, True)[0] )\n",
    "        summ = e.sum(1, True)[0]\n",
    "        return e / summ\n",
    "    \n",
    "class Flatten(torch.nn.Module):\n",
    "    def forward(self, x):\n",
    "        N = x.shape[0]\n",
    "        return x.view(N, -1)"
   ]
  },
  {
   "cell_type": "code",
   "execution_count": 10,
   "metadata": {},
   "outputs": [
    {
     "data": {
      "text/plain": [
       "1"
      ]
     },
     "execution_count": 10,
     "metadata": {},
     "output_type": "execute_result"
    }
   ],
   "source": [
    "calculate_pad(input_size = 64, kernel_size = 3, stride = 2, output_size = 32)"
   ]
  },
  {
   "cell_type": "code",
   "execution_count": 11,
   "metadata": {},
   "outputs": [],
   "source": [
    "#################################\n",
    "#  in_channels is not defined!  #\n",
    "#################################\n",
    "\n",
    "conv_net = torch.nn.Sequential(torch.nn.Conv2d(in_channels=3, out_channels=8, kernel_size=3, stride=2, padding=1),\n",
    "                               torch.nn.ReLU(),\n",
    "                               torch.nn.BatchNorm2d(8),\n",
    "                               torch.nn.Dropout2d(0.03),\n",
    "                               # 32x32x8\n",
    "                               \n",
    "                               torch.nn.Conv2d(8, 16, 3, stride=2, padding=1),\n",
    "                               torch.nn.ReLU(),\n",
    "                               torch.nn.BatchNorm2d(16),\n",
    "                               torch.nn.Dropout2d(0.03),\n",
    "                               # 16x16x16\n",
    "                               \n",
    "                               torch.nn.Conv2d(16, 32, 3, stride=2, padding=1),\n",
    "                               torch.nn.ReLU(),\n",
    "                               torch.nn.BatchNorm2d(32),\n",
    "                               torch.nn.Dropout2d(0.03),\n",
    "                               # 8x8x32\n",
    "                               \n",
    "                               torch.nn.Conv2d(32, 64, 3, stride=2, padding=1),\n",
    "                               torch.nn.ReLU(),\n",
    "                               torch.nn.BatchNorm2d(64),\n",
    "                               torch.nn.Dropout2d(0.03),\n",
    "                               # 4x4x64\n",
    "                               \n",
    "                               torch.nn.Conv2d(64, 128, 3, stride=2, padding=1),\n",
    "                               torch.nn.ReLU(),\n",
    "                               torch.nn.BatchNorm2d(128),\n",
    "                               torch.nn.Dropout2d(0.03),\n",
    "                               # 2x2x128\n",
    "                               \n",
    "                               Flatten(),\n",
    "                               torch.nn.Linear(512, 10),\n",
    "                               Softmax_layer())"
   ]
  },
  {
   "cell_type": "code",
   "execution_count": 12,
   "metadata": {},
   "outputs": [],
   "source": [
    "model = NNClassifier(conv_net, lr=1e-3, device='cuda')"
   ]
  },
  {
   "cell_type": "code",
   "execution_count": 13,
   "metadata": {},
   "outputs": [
    {
     "data": {
      "application/vnd.jupyter.widget-view+json": {
       "model_id": "211f4462376f46b993cfc427144278a5",
       "version_major": 2,
       "version_minor": 0
      },
      "text/plain": [
       "HBox(children=(IntProgress(value=0), HTML(value='')))"
      ]
     },
     "metadata": {},
     "output_type": "display_data"
    },
    {
     "name": "stdout",
     "output_type": "stream",
     "text": [
      "\n"
     ]
    }
   ],
   "source": [
    "model.fit_loader(train_loader, valid_loader, epochs=100, log_every_epoch=1)"
   ]
  },
  {
   "cell_type": "code",
   "execution_count": 14,
   "metadata": {},
   "outputs": [
    {
     "data": {
      "image/png": "[encoded data removed]",
      "text/plain": [
       "<Figure size 432x288 with 1 Axes>"
      ]
     },
     "metadata": {
      "needs_background": "light"
     },
     "output_type": "display_data"
    }
   ],
   "source": [
    "show_history(model.train_history, model.valid_history, width=2, fontsize=10)"
   ]
  },
  {
   "cell_type": "code",
   "execution_count": 15,
   "metadata": {},
   "outputs": [
    {
     "data": {
      "text/plain": [
       "0.722007722007722"
      ]
     },
     "execution_count": 15,
     "metadata": {},
     "output_type": "execute_result"
    }
   ],
   "source": [
    "model.evaluate_score(X_test, y_test)"
   ]
  },
  {
   "cell_type": "markdown",
   "metadata": {},
   "source": [
    "# Testing on real data"
   ]
  },
  {
   "cell_type": "markdown",
   "metadata": {},
   "source": [
    "Перед тем как перейти к тестированию на реальных данных, надо положить картинки в любом формате в папку source/real_data. Все что там находится можно удалить."
   ]
  },
  {
   "cell_type": "code",
   "execution_count": 17,
   "metadata": {},
   "outputs": [],
   "source": [
    "imgs = load_imgs_from_folder(os.path.join('source', 'real_data'), size=(64,64))"
   ]
  },
  {
   "cell_type": "code",
   "execution_count": 18,
   "metadata": {},
   "outputs": [
    {
     "data": {
      "text/plain": [
       "(30, 3, 64, 64)"
      ]
     },
     "execution_count": 18,
     "metadata": {},
     "output_type": "execute_result"
    }
   ],
   "source": [
    "imgs.shape"
   ]
  },
  {
   "cell_type": "code",
   "execution_count": 19,
   "metadata": {},
   "outputs": [
    {
     "data": {
      "image/png": "[encoded data removed]",
      "text/plain": [
       "<Figure size 360x360 with 1 Axes>"
      ]
     },
     "metadata": {
      "needs_background": "light"
     },
     "output_type": "display_data"
    }
   ],
   "source": [
    "show_image(imgs[14])"
   ]
  },
  {
   "cell_type": "code",
   "execution_count": 20,
   "metadata": {},
   "outputs": [
    {
     "data": {
      "text/plain": [
       "array([4, 3, 3, 5, 5, 6, 5, 5, 5, 0, 0, 3, 3, 4, 5, 6, 5, 5, 5, 5, 0, 3,\n",
       "       3, 4, 5, 3, 5, 8, 5, 5], dtype=int64)"
      ]
     },
     "execution_count": 20,
     "metadata": {},
     "output_type": "execute_result"
    }
   ],
   "source": [
    "model.predict(imgs)"
   ]
  },
  {
   "cell_type": "markdown",
   "metadata": {},
   "source": [
    "#### Save the model"
   ]
  },
  {
   "cell_type": "code",
   "execution_count": 41,
   "metadata": {},
   "outputs": [],
   "source": [
    "torch.save(conv_net.state_dict(), './my_network_1.pt')"
   ]
  },
  {
   "cell_type": "code",
   "execution_count": null,
   "metadata": {},
   "outputs": [],
   "source": []
  }
 ],
 "metadata": {
  "kernelspec": {
   "display_name": "Python 3",
   "language": "python",
   "name": "python3"
  },
  "language_info": {
   "codemirror_mode": {
    "name": "ipython",
    "version": 3
   },
   "file_extension": ".py",
   "mimetype": "text/x-python",
   "name": "python",
   "nbconvert_exporter": "python",
   "pygments_lexer": "ipython3",
   "version": "3.7.3"
  },
  "latex_envs": {
   "LaTeX_envs_menu_present": true,
   "autocomplete": true,
   "bibliofile": "biblio.bib",
   "cite_by": "apalike",
   "current_citInitial": 1,
   "eqLabelWithNumbers": true,
   "eqNumInitial": 1,
   "hotkeys": {
    "equation": "Ctrl-E",
    "itemize": "Ctrl-I"
   },
   "labels_anchors": false,
   "latex_user_defs": false,
   "report_style_numbering": false,
   "user_envs_cfg": false
  }
 },
 "nbformat": 4,
 "nbformat_minor": 2
}
